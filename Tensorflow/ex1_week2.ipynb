{
 "cells": [
  {
   "cell_type": "code",
   "execution_count": 1,
   "metadata": {},
   "outputs": [],
   "source": [
    "import tensorflow as tf"
   ]
  },
  {
   "cell_type": "code",
   "execution_count": 15,
   "metadata": {},
   "outputs": [],
   "source": [
    "# GRADED FUNCTION: train_mnist\n",
    "def train_mnist():\n",
    "    # Please write your code only where you are indicated.\n",
    "    # please do not remove # model fitting inline comments.\n",
    "\n",
    "    # YOUR CODE SHOULD START HERE\n",
    "    class myCallback(tf.keras.callbacks.Callback):\n",
    "        def on_epoch_end(self, epoch, logs={}):\n",
    "            print(logs)\n",
    "            if(logs.get('acc')>0.99):\n",
    "                print('Reached 99% accuracy so cancelling training!')\n",
    "                self.model.stop_training = True\n",
    "                \n",
    "    callbacks = myCallback()\n",
    "    # YOUR CODE SHOULD END HERE\n",
    "\n",
    "    mnist = tf.keras.datasets.mnist\n",
    "\n",
    "    (x_train, y_train),(x_test, y_test) = mnist.load_data()\n",
    "\n",
    "\n",
    "    # YOUR CODE SHOULD START HERE\n",
    "    x_train = x_train/255.0\n",
    "    x_test  = x_test/255.0\n",
    "    \n",
    "    # YOUR CODE SHOULD END HERE\n",
    "    \n",
    "    model = tf.keras.models.Sequential([\n",
    "        tf.keras.layers.Flatten(),\n",
    "        tf.keras.layers.Dense(512, activation=tf.nn.relu),\n",
    "        tf.keras.layers.Dense(10, activation=tf.nn.softmax)\n",
    "    ])\n",
    "\n",
    "    model.compile(optimizer='adam', loss='sparse_categorical_crossentropy', metrics=['acc'])\n",
    "    \n",
    "    # model fitting\n",
    "    history = model.fit(x_train, y_train, epochs=10, callbacks=[callbacks])\n",
    "    # model fitting\n",
    "  \n",
    "    return history.epoch, history.history['acc'][-1]"
   ]
  },
  {
   "cell_type": "code",
   "execution_count": 13,
   "metadata": {},
   "outputs": [
    {
     "name": "stdout",
     "output_type": "stream",
     "text": [
      "Epoch 1/10\n",
      "59872/60000 [============================>.] - ETA: 0s - loss: 0.1991 - acc: 0.9412{'loss': 0.19883273422817388, 'acc': 0.9412666666666667}\n",
      "60000/60000 [==============================] - 15s 250us/step - loss: 0.1988 - acc: 0.9413\n",
      "Epoch 2/10\n",
      "59840/60000 [============================>.] - ETA: 0s - loss: 0.0801 - acc: 0.9751{'loss': 0.08004848063526054, 'acc': 0.97505}\n",
      "60000/60000 [==============================] - 15s 246us/step - loss: 0.0800 - acc: 0.9750\n",
      "Epoch 3/10\n",
      "59904/60000 [============================>.] - ETA: 0s - loss: 0.0530 - acc: 0.9829{'loss': 0.05294617472379468, 'acc': 0.98285}\n",
      "60000/60000 [==============================] - 15s 243us/step - loss: 0.0529 - acc: 0.9829\n",
      "Epoch 4/10\n",
      "59808/60000 [============================>.] - ETA: 0s - loss: 0.0374 - acc: 0.9883{'loss': 0.03730091252701047, 'acc': 0.9883}\n",
      "60000/60000 [==============================] - 15s 246us/step - loss: 0.0373 - acc: 0.9883\n",
      "Epoch 5/10\n",
      "59968/60000 [============================>.] - ETA: 0s - loss: 0.0275 - acc: 0.9912{'loss': 0.02747084728924868, 'acc': 0.9911833333333333}\n",
      "Reached 99% accuracy so cancelling training!\n",
      "60000/60000 [==============================] - 15s 247us/step - loss: 0.0275 - acc: 0.9912\n",
      "<tensorflow.python.keras.callbacks.History object at 0x000001EC00EA7AC8>\n"
     ]
    },
    {
     "data": {
      "text/plain": [
       "([0, 1, 2, 3, 4], 0.9911833333333333)"
      ]
     },
     "execution_count": 13,
     "metadata": {},
     "output_type": "execute_result"
    }
   ],
   "source": [
    "train_mnist()"
   ]
  },
  {
   "cell_type": "code",
   "execution_count": null,
   "metadata": {},
   "outputs": [],
   "source": []
  }
 ],
 "metadata": {
  "kernelspec": {
   "display_name": "Python 3",
   "language": "python",
   "name": "python3"
  },
  "language_info": {
   "codemirror_mode": {
    "name": "ipython",
    "version": 3
   },
   "file_extension": ".py",
   "mimetype": "text/x-python",
   "name": "python",
   "nbconvert_exporter": "python",
   "pygments_lexer": "ipython3",
   "version": "3.6.8"
  }
 },
 "nbformat": 4,
 "nbformat_minor": 2
}
