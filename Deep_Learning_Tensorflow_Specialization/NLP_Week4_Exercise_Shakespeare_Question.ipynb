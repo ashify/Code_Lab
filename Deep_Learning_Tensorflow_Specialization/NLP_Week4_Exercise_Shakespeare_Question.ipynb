{
  "nbformat": 4,
  "nbformat_minor": 0,
  "metadata": {
    "colab": {
      "name": "NLP-Week4-Exercise-Shakespeare-Question.ipynb",
      "version": "0.3.2",
      "provenance": []
    },
    "kernelspec": {
      "name": "python2",
      "display_name": "Python 2"
    },
    "accelerator": "GPU"
  },
  "cells": [
    {
      "cell_type": "code",
      "metadata": {
        "id": "BOwsuGQQY9OL",
        "colab_type": "code",
        "colab": {}
      },
      "source": [
        "from tensorflow.keras.preprocessing.sequence import pad_sequences\n",
        "from tensorflow.keras.layers import Embedding, LSTM, Dense, Dropout, Bidirectional\n",
        "from tensorflow.keras.preprocessing.text import Tokenizer\n",
        "from tensorflow.keras.models import Sequential\n",
        "from tensorflow.keras.optimizers import Adam\n",
        "from tensorflow.keras import regularizers\n",
        "import tensorflow.keras.utils as ku \n",
        "import numpy as np "
      ],
      "execution_count": 0,
      "outputs": []
    },
    {
      "cell_type": "code",
      "metadata": {
        "colab_type": "code",
        "id": "PRnDnCW-Z7qv",
        "colab": {
          "base_uri": "https://localhost:8080/",
          "height": 217
        },
        "outputId": "02d85a21-7384-4960-f60d-a6e59a43d00a"
      },
      "source": [
        "tokenizer = Tokenizer()\n",
        "!wget --no-check-certificate \\\n",
        "    https://storage.googleapis.com/laurencemoroney-blog.appspot.com/sonnets.txt \\\n",
        "    -O /tmp/sonnets.txt\n",
        "data = open('/tmp/sonnets.txt').read()\n",
        "\n",
        "corpus = data.lower().split(\"\\n\")\n",
        "\n",
        "\n",
        "tokenizer.fit_on_texts(corpus)\n",
        "total_words = len(tokenizer.word_index) + 1\n",
        "\n",
        "# create input sequences using list of tokens\n",
        "input_sequences = []\n",
        "for line in corpus:\n",
        "\ttoken_list = tokenizer.texts_to_sequences([line])[0]\n",
        "\tfor i in range(1, len(token_list)):\n",
        "\t\tn_gram_sequence = token_list[:i+1]\n",
        "\t\tinput_sequences.append(n_gram_sequence)\n",
        "\n",
        "\n",
        "# pad sequences \n",
        "max_sequence_len = max([len(x) for x in input_sequences])\n",
        "input_sequences = np.array(pad_sequences(input_sequences, maxlen=max_sequence_len, padding='pre'))\n",
        "\n",
        "# create predictors and label\n",
        "predictors, label = input_sequences[:,:-1],input_sequences[:,-1]\n",
        "\n",
        "label = ku.to_categorical(label, num_classes=total_words)"
      ],
      "execution_count": 2,
      "outputs": [
        {
          "output_type": "stream",
          "text": [
            "--2019-08-30 15:01:36--  https://storage.googleapis.com/laurencemoroney-blog.appspot.com/sonnets.txt\n",
            "Resolving storage.googleapis.com (storage.googleapis.com)... 64.233.189.128, 2404:6800:4008:c04::80\n",
            "Connecting to storage.googleapis.com (storage.googleapis.com)|64.233.189.128|:443... connected.\n",
            "HTTP request sent, awaiting response... 200 OK\n",
            "Length: 93578 (91K) [text/plain]\n",
            "Saving to: ‘/tmp/sonnets.txt’\n",
            "\n",
            "\r/tmp/sonnets.txt      0%[                    ]       0  --.-KB/s               \r/tmp/sonnets.txt    100%[===================>]  91.38K  --.-KB/s    in 0.001s  \n",
            "\n",
            "2019-08-30 15:01:36 (137 MB/s) - ‘/tmp/sonnets.txt’ saved [93578/93578]\n",
            "\n"
          ],
          "name": "stdout"
        }
      ]
    },
    {
      "cell_type": "code",
      "metadata": {
        "id": "w9vH8Y59ajYL",
        "colab_type": "code",
        "colab": {
          "base_uri": "https://localhost:8080/",
          "height": 399
        },
        "outputId": "a65ef7e9-e71d-44c7-9ae6-857511f5dcf2"
      },
      "source": [
        "model = Sequential()\n",
        "model.add(Embedding(total_words, 100, input_length=max_sequence_len-1))\n",
        "model.add(Bidirectional(LSTM(150, return_sequences=True)))\n",
        "model.add(Dropout(0.2))\n",
        "model.add(LSTM(100))\n",
        "model.add(Dense(total_words/2, activation='relu', kernel_regularizer=regularizers.l2(0.01)))\n",
        "model.add(Dense(total_words, activation='softmax'))\n",
        "model.compile(optimizer='adam', loss='categorical_crossentropy', metrics=['acc'])\n",
        "print(model.summary())\n"
      ],
      "execution_count": 12,
      "outputs": [
        {
          "output_type": "stream",
          "text": [
            "Model: \"sequential_3\"\n",
            "_________________________________________________________________\n",
            "Layer (type)                 Output Shape              Param #   \n",
            "=================================================================\n",
            "embedding_3 (Embedding)      (None, 10, 100)           321100    \n",
            "_________________________________________________________________\n",
            "bidirectional_2 (Bidirection (None, 10, 300)           301200    \n",
            "_________________________________________________________________\n",
            "dropout_2 (Dropout)          (None, 10, 300)           0         \n",
            "_________________________________________________________________\n",
            "lstm_5 (LSTM)                (None, 100)               160400    \n",
            "_________________________________________________________________\n",
            "dense_2 (Dense)              (None, 1605)              162105    \n",
            "_________________________________________________________________\n",
            "dense_3 (Dense)              (None, 3211)              5156866   \n",
            "=================================================================\n",
            "Total params: 6,101,671\n",
            "Trainable params: 6,101,671\n",
            "Non-trainable params: 0\n",
            "_________________________________________________________________\n",
            "None\n"
          ],
          "name": "stdout"
        }
      ]
    },
    {
      "cell_type": "code",
      "metadata": {
        "id": "AIg2f1HBxqof",
        "colab_type": "code",
        "colab": {
          "base_uri": "https://localhost:8080/",
          "height": 1000
        },
        "outputId": "81dae25c-dbaa-4776-a339-458b1118bb25"
      },
      "source": [
        " history = model.fit(predictors, label, epochs=100, verbose=1)"
      ],
      "execution_count": 13,
      "outputs": [
        {
          "output_type": "stream",
          "text": [
            "Epoch 1/100\n",
            "15462/15462 [==============================] - 41s 3ms/sample - loss: 6.9136 - acc: 0.0217\n",
            "Epoch 2/100\n",
            "15462/15462 [==============================] - 40s 3ms/sample - loss: 6.4978 - acc: 0.0233\n",
            "Epoch 3/100\n",
            "15462/15462 [==============================] - 40s 3ms/sample - loss: 6.3927 - acc: 0.0235\n",
            "Epoch 4/100\n",
            "15462/15462 [==============================] - 40s 3ms/sample - loss: 6.2671 - acc: 0.0301\n",
            "Epoch 5/100\n",
            "15462/15462 [==============================] - 40s 3ms/sample - loss: 6.1713 - acc: 0.0360\n",
            "Epoch 6/100\n",
            "15462/15462 [==============================] - 40s 3ms/sample - loss: 6.0876 - acc: 0.0394\n",
            "Epoch 7/100\n",
            "15462/15462 [==============================] - 40s 3ms/sample - loss: 6.0052 - acc: 0.0418\n",
            "Epoch 8/100\n",
            "15462/15462 [==============================] - 40s 3ms/sample - loss: 5.9140 - acc: 0.0455\n",
            "Epoch 9/100\n",
            "15462/15462 [==============================] - 40s 3ms/sample - loss: 5.8136 - acc: 0.0550\n",
            "Epoch 10/100\n",
            "15462/15462 [==============================] - 40s 3ms/sample - loss: 5.7075 - acc: 0.0605\n",
            "Epoch 11/100\n",
            "15462/15462 [==============================] - 40s 3ms/sample - loss: 5.6029 - acc: 0.0631\n",
            "Epoch 12/100\n",
            "15462/15462 [==============================] - 39s 3ms/sample - loss: 5.4926 - acc: 0.0689\n",
            "Epoch 13/100\n",
            "15462/15462 [==============================] - 39s 3ms/sample - loss: 5.3822 - acc: 0.0757\n",
            "Epoch 14/100\n",
            "15462/15462 [==============================] - 39s 3ms/sample - loss: 5.2709 - acc: 0.0845\n",
            "Epoch 15/100\n",
            "15462/15462 [==============================] - 39s 3ms/sample - loss: 5.1572 - acc: 0.0919\n",
            "Epoch 16/100\n",
            "15462/15462 [==============================] - 40s 3ms/sample - loss: 5.0488 - acc: 0.1024\n",
            "Epoch 17/100\n",
            "15462/15462 [==============================] - 39s 3ms/sample - loss: 4.9329 - acc: 0.1096\n",
            "Epoch 18/100\n",
            "15462/15462 [==============================] - 39s 3ms/sample - loss: 4.8210 - acc: 0.1177\n",
            "Epoch 19/100\n",
            "15462/15462 [==============================] - 39s 3ms/sample - loss: 4.7117 - acc: 0.1293\n",
            "Epoch 20/100\n",
            "15462/15462 [==============================] - 39s 3ms/sample - loss: 4.6045 - acc: 0.1404\n",
            "Epoch 21/100\n",
            "15462/15462 [==============================] - 39s 3ms/sample - loss: 4.4918 - acc: 0.1502\n",
            "Epoch 22/100\n",
            "15462/15462 [==============================] - 39s 3ms/sample - loss: 4.3867 - acc: 0.1610\n",
            "Epoch 23/100\n",
            "15462/15462 [==============================] - 39s 3ms/sample - loss: 4.2854 - acc: 0.1757\n",
            "Epoch 24/100\n",
            "15462/15462 [==============================] - 40s 3ms/sample - loss: 4.1734 - acc: 0.1896\n",
            "Epoch 25/100\n",
            "15462/15462 [==============================] - 39s 3ms/sample - loss: 4.0671 - acc: 0.2039\n",
            "Epoch 26/100\n",
            "15462/15462 [==============================] - 39s 3ms/sample - loss: 3.9714 - acc: 0.2167\n",
            "Epoch 27/100\n",
            "15462/15462 [==============================] - 39s 3ms/sample - loss: 3.8659 - acc: 0.2341\n",
            "Epoch 28/100\n",
            "15462/15462 [==============================] - 39s 3ms/sample - loss: 3.7691 - acc: 0.2494\n",
            "Epoch 29/100\n",
            "15462/15462 [==============================] - 40s 3ms/sample - loss: 3.6786 - acc: 0.2679\n",
            "Epoch 30/100\n",
            "15462/15462 [==============================] - 39s 3ms/sample - loss: 3.5838 - acc: 0.2811\n",
            "Epoch 31/100\n",
            "15462/15462 [==============================] - 39s 3ms/sample - loss: 3.4719 - acc: 0.3081\n",
            "Epoch 32/100\n",
            "15462/15462 [==============================] - 39s 3ms/sample - loss: 3.3908 - acc: 0.3248\n",
            "Epoch 33/100\n",
            "15462/15462 [==============================] - 39s 3ms/sample - loss: 3.3052 - acc: 0.3442\n",
            "Epoch 34/100\n",
            "15462/15462 [==============================] - 39s 3ms/sample - loss: 3.2166 - acc: 0.3615\n",
            "Epoch 35/100\n",
            "15462/15462 [==============================] - 39s 3ms/sample - loss: 3.1295 - acc: 0.3864\n",
            "Epoch 36/100\n",
            "15462/15462 [==============================] - 39s 3ms/sample - loss: 3.0518 - acc: 0.4001\n",
            "Epoch 37/100\n",
            "15462/15462 [==============================] - 39s 3ms/sample - loss: 2.9751 - acc: 0.4168\n",
            "Epoch 38/100\n",
            "15462/15462 [==============================] - 39s 3ms/sample - loss: 2.8999 - acc: 0.4278\n",
            "Epoch 39/100\n",
            "15462/15462 [==============================] - 39s 3ms/sample - loss: 2.8222 - acc: 0.4522\n",
            "Epoch 40/100\n",
            "15462/15462 [==============================] - 39s 3ms/sample - loss: 2.7593 - acc: 0.4602\n",
            "Epoch 41/100\n",
            "15462/15462 [==============================] - 39s 3ms/sample - loss: 2.6880 - acc: 0.4798\n",
            "Epoch 42/100\n",
            "15462/15462 [==============================] - 39s 3ms/sample - loss: 2.6298 - acc: 0.4919\n",
            "Epoch 43/100\n",
            "15462/15462 [==============================] - 39s 3ms/sample - loss: 2.5697 - acc: 0.5048\n",
            "Epoch 44/100\n",
            "15462/15462 [==============================] - 39s 3ms/sample - loss: 2.5064 - acc: 0.5221\n",
            "Epoch 45/100\n",
            "15462/15462 [==============================] - 39s 3ms/sample - loss: 2.4430 - acc: 0.5366\n",
            "Epoch 46/100\n",
            "15462/15462 [==============================] - 39s 3ms/sample - loss: 2.4033 - acc: 0.5452\n",
            "Epoch 47/100\n",
            "15462/15462 [==============================] - 39s 3ms/sample - loss: 2.3388 - acc: 0.5609\n",
            "Epoch 48/100\n",
            "15462/15462 [==============================] - 39s 3ms/sample - loss: 2.2849 - acc: 0.5713\n",
            "Epoch 49/100\n",
            "15462/15462 [==============================] - 39s 3ms/sample - loss: 2.2312 - acc: 0.5836\n",
            "Epoch 50/100\n",
            "15462/15462 [==============================] - 39s 3ms/sample - loss: 2.1835 - acc: 0.5958\n",
            "Epoch 51/100\n",
            "15462/15462 [==============================] - 39s 3ms/sample - loss: 2.1249 - acc: 0.6087\n",
            "Epoch 52/100\n",
            "15462/15462 [==============================] - 39s 3ms/sample - loss: 2.0971 - acc: 0.6107\n",
            "Epoch 53/100\n",
            "15462/15462 [==============================] - 39s 3ms/sample - loss: 2.0631 - acc: 0.6222\n",
            "Epoch 54/100\n",
            "15462/15462 [==============================] - 39s 3ms/sample - loss: 2.0154 - acc: 0.6314\n",
            "Epoch 55/100\n",
            "15462/15462 [==============================] - 39s 3ms/sample - loss: 1.9624 - acc: 0.6471\n",
            "Epoch 56/100\n",
            "15462/15462 [==============================] - 39s 3ms/sample - loss: 1.9274 - acc: 0.6502\n",
            "Epoch 57/100\n",
            "15462/15462 [==============================] - 39s 3ms/sample - loss: 1.9000 - acc: 0.6568\n",
            "Epoch 58/100\n",
            "15462/15462 [==============================] - 40s 3ms/sample - loss: 1.8601 - acc: 0.6644\n",
            "Epoch 59/100\n",
            "15462/15462 [==============================] - 39s 3ms/sample - loss: 1.8100 - acc: 0.6777\n",
            "Epoch 60/100\n",
            "15462/15462 [==============================] - 39s 3ms/sample - loss: 1.8087 - acc: 0.6765\n",
            "Epoch 61/100\n",
            "15462/15462 [==============================] - 39s 3ms/sample - loss: 1.7610 - acc: 0.6856\n",
            "Epoch 62/100\n",
            "15462/15462 [==============================] - 39s 3ms/sample - loss: 1.7183 - acc: 0.6938\n",
            "Epoch 63/100\n",
            "15462/15462 [==============================] - 39s 3ms/sample - loss: 1.6956 - acc: 0.7001\n",
            "Epoch 64/100\n",
            "15462/15462 [==============================] - 39s 3ms/sample - loss: 1.6722 - acc: 0.7036\n",
            "Epoch 65/100\n",
            "15462/15462 [==============================] - 39s 3ms/sample - loss: 1.6307 - acc: 0.7136\n",
            "Epoch 66/100\n",
            "15462/15462 [==============================] - 39s 3ms/sample - loss: 1.6091 - acc: 0.7181\n",
            "Epoch 67/100\n",
            "15462/15462 [==============================] - 39s 3ms/sample - loss: 1.5740 - acc: 0.7264\n",
            "Epoch 68/100\n",
            "15462/15462 [==============================] - 39s 3ms/sample - loss: 1.5635 - acc: 0.7258\n",
            "Epoch 69/100\n",
            "15462/15462 [==============================] - 39s 3ms/sample - loss: 1.5245 - acc: 0.7361\n",
            "Epoch 70/100\n",
            "15462/15462 [==============================] - 39s 3ms/sample - loss: 1.4948 - acc: 0.7409\n",
            "Epoch 71/100\n",
            "15462/15462 [==============================] - 39s 3ms/sample - loss: 1.4800 - acc: 0.7412\n",
            "Epoch 72/100\n",
            "15462/15462 [==============================] - 40s 3ms/sample - loss: 1.4685 - acc: 0.7429\n",
            "Epoch 73/100\n",
            "15462/15462 [==============================] - 40s 3ms/sample - loss: 1.4496 - acc: 0.7493\n",
            "Epoch 74/100\n",
            "15462/15462 [==============================] - 39s 3ms/sample - loss: 1.4309 - acc: 0.7500\n",
            "Epoch 75/100\n",
            "15462/15462 [==============================] - 39s 3ms/sample - loss: 1.3921 - acc: 0.7633\n",
            "Epoch 76/100\n",
            "15462/15462 [==============================] - 39s 3ms/sample - loss: 1.3771 - acc: 0.7602\n",
            "Epoch 77/100\n",
            "15462/15462 [==============================] - 39s 3ms/sample - loss: 1.3685 - acc: 0.7624\n",
            "Epoch 78/100\n",
            "15462/15462 [==============================] - 39s 3ms/sample - loss: 1.3337 - acc: 0.7703\n",
            "Epoch 79/100\n",
            "15462/15462 [==============================] - 39s 3ms/sample - loss: 1.3485 - acc: 0.7631\n",
            "Epoch 80/100\n",
            "15462/15462 [==============================] - 39s 3ms/sample - loss: 1.3197 - acc: 0.7714\n",
            "Epoch 81/100\n",
            "15462/15462 [==============================] - 39s 3ms/sample - loss: 1.2997 - acc: 0.7762\n",
            "Epoch 82/100\n",
            "15462/15462 [==============================] - 39s 3ms/sample - loss: 1.2967 - acc: 0.7730\n",
            "Epoch 83/100\n",
            "15462/15462 [==============================] - 39s 3ms/sample - loss: 1.2850 - acc: 0.7750\n",
            "Epoch 84/100\n",
            "15462/15462 [==============================] - 39s 3ms/sample - loss: 1.2496 - acc: 0.7844\n",
            "Epoch 85/100\n",
            "15462/15462 [==============================] - 39s 3ms/sample - loss: 1.2426 - acc: 0.7851\n",
            "Epoch 86/100\n",
            "15462/15462 [==============================] - 39s 3ms/sample - loss: 1.2142 - acc: 0.7907\n",
            "Epoch 87/100\n",
            "15462/15462 [==============================] - 39s 3ms/sample - loss: 1.2164 - acc: 0.7888\n",
            "Epoch 88/100\n",
            "15462/15462 [==============================] - 39s 3ms/sample - loss: 1.1928 - acc: 0.7939\n",
            "Epoch 89/100\n",
            "15462/15462 [==============================] - 39s 3ms/sample - loss: 1.1876 - acc: 0.7910\n",
            "Epoch 90/100\n",
            "15462/15462 [==============================] - 39s 3ms/sample - loss: 1.1897 - acc: 0.7931\n",
            "Epoch 91/100\n",
            "15462/15462 [==============================] - 39s 3ms/sample - loss: 1.1937 - acc: 0.7919\n",
            "Epoch 92/100\n",
            "15462/15462 [==============================] - 39s 3ms/sample - loss: 1.1646 - acc: 0.7987\n",
            "Epoch 93/100\n",
            "15462/15462 [==============================] - 39s 3ms/sample - loss: 1.1548 - acc: 0.7972\n",
            "Epoch 94/100\n",
            "15462/15462 [==============================] - 39s 3ms/sample - loss: 1.1417 - acc: 0.7998\n",
            "Epoch 95/100\n",
            "15462/15462 [==============================] - 39s 3ms/sample - loss: 1.1241 - acc: 0.8053\n",
            "Epoch 96/100\n",
            "15462/15462 [==============================] - 39s 3ms/sample - loss: 1.1217 - acc: 0.8035\n",
            "Epoch 97/100\n",
            "15462/15462 [==============================] - 39s 3ms/sample - loss: 1.1090 - acc: 0.8030\n",
            "Epoch 98/100\n",
            "15462/15462 [==============================] - 39s 3ms/sample - loss: 1.1084 - acc: 0.8074\n",
            "Epoch 99/100\n",
            "15462/15462 [==============================] - 39s 3ms/sample - loss: 1.0926 - acc: 0.8102\n",
            "Epoch 100/100\n",
            "15462/15462 [==============================] - 39s 3ms/sample - loss: 1.0755 - acc: 0.8109\n"
          ],
          "name": "stdout"
        }
      ]
    },
    {
      "cell_type": "code",
      "metadata": {
        "id": "1fXTEO3GJ282",
        "colab_type": "code",
        "colab": {
          "base_uri": "https://localhost:8080/",
          "height": 545
        },
        "outputId": "df47b518-0423-45cb-e672-76e918b89a05"
      },
      "source": [
        "import matplotlib.pyplot as plt\n",
        "acc = history.history['acc']\n",
        "loss = history.history['loss']\n",
        "\n",
        "epochs = range(len(acc))\n",
        "\n",
        "plt.plot(epochs, acc, 'b', label='Training accuracy')\n",
        "plt.title('Training accuracy')\n",
        "\n",
        "plt.figure()\n",
        "\n",
        "plt.plot(epochs, loss, 'b', label='Training Loss')\n",
        "plt.title('Training loss')\n",
        "plt.legend()\n",
        "\n",
        "plt.show()"
      ],
      "execution_count": 16,
      "outputs": [
        {
          "output_type": "display_data",
          "data": {
            "image/png": "[encoded data removed]",
            "text/plain": [
              "<Figure size 432x288 with 1 Axes>"
            ]
          },
          "metadata": {
            "tags": []
          }
        },
        {
          "output_type": "display_data",
          "data": {
            "image/png": "[encoded data removed]",
            "text/plain": [
              "<Figure size 432x288 with 1 Axes>"
            ]
          },
          "metadata": {
            "tags": []
          }
        }
      ]
    },
    {
      "cell_type": "code",
      "metadata": {
        "id": "6Vc6PHgxa6Hm",
        "colab_type": "code",
        "colab": {
          "base_uri": "https://localhost:8080/",
          "height": 55
        },
        "outputId": "46873ef4-1acd-4488-ce01-b3581a3f36a0"
      },
      "source": [
        "seed_text = \"Help me Obi Wan Kenobi, you're my only hope\"\n",
        "next_words = 100\n",
        "  \n",
        "for _ in range(next_words):\n",
        "\ttoken_list = tokenizer.texts_to_sequences([seed_text])[0]\n",
        "\ttoken_list = pad_sequences([token_list], maxlen=max_sequence_len-1, padding='pre')\n",
        "\tpredicted = model.predict_classes(token_list, verbose=0)\n",
        "\toutput_word = \"\"\n",
        "\tfor word, index in tokenizer.word_index.items():\n",
        "\t\tif index == predicted:\n",
        "\t\t\toutput_word = word\n",
        "\t\t\tbreak\n",
        "\tseed_text += \" \" + output_word\n",
        "print(seed_text)"
      ],
      "execution_count": 15,
      "outputs": [
        {
          "output_type": "stream",
          "text": [
            "Help me Obi Wan Kenobi, you're my only hope or hell to approve so dearly forth thee doth drink arising taken behind sight eyed fix'd must make walls to smother grow days find go back live swearing thence seen trust groan with prove eye twain twain twain twain new ill used shown live could so gone so foes green thine best swearing green true glory find give worth show trust joy thee bright o'er green it date tender summer of thence bear behind days back weep back behind with groan lies fix'd be seen leap friend still shine bright know in me not half me one groan still be\n"
          ],
          "name": "stdout"
        }
      ]
    }
  ]
}