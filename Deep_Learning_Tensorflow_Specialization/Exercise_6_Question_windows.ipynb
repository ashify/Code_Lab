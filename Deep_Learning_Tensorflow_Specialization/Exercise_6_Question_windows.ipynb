{
 "cells": [
  {
   "cell_type": "code",
   "execution_count": 5,
   "metadata": {
    "colab": {},
    "colab_type": "code",
    "id": "dn-6c02VmqiN"
   },
   "outputs": [
    {
     "name": "stdout",
     "output_type": "stream",
     "text": [
      "tf.estimator package not installed.\n",
      "tf.estimator package not installed.\n"
     ]
    }
   ],
   "source": [
    "# In this exercise you will train a CNN on the FULL Cats-v-dogs dataset\n",
    "# This will require you doing a lot of data preprocessing because\n",
    "# the dataset isn't split into training and validation for you\n",
    "# This code block has all the required inputs\n",
    "import os\n",
    "import zipfile\n",
    "import random\n",
    "import tensorflow as tf\n",
    "import PIL\n",
    "from tensorflow.keras.optimizers import RMSprop\n",
    "from tensorflow.keras.preprocessing.image import ImageDataGenerator\n",
    "from shutil import copyfile"
   ]
  },
  {
   "cell_type": "code",
   "execution_count": null,
   "metadata": {
    "colab": {
     "base_uri": "https://localhost:8080/",
     "height": 221
    },
    "colab_type": "code",
    "id": "3sd9dQWa23aj",
    "outputId": "e81f837c-4b0d-4bb6-8806-f55c7fdf04d4"
   },
   "outputs": [],
   "source": [
    "# This code block downloads the full Cats-v-Dogs dataset and stores it as \n",
    "# cats-and-dogs.zip. It then unzips it to /tmp\n",
    "# which will create a tmp/PetImages directory containing subdirectories\n",
    "# called 'Cat' and 'Dog' (that's how the original researchers structured it)\n",
    "# If the URL doesn't work, \n",
    "# .   visit https://www.microsoft.com/en-us/download/confirmation.aspx?id=54765\n",
    "# And right click on the 'Download Manually' link to get a new URL\n",
    "\n",
    "# !wget --no-check-certificate \\\n",
    "#     \"https://download.microsoft.com/download/3/E/1/3E1C3F21-ECDB-4869-8368-6DEBA77B919F/kagglecatsanddogs_3367a.zip\" \\\n",
    "#     -O \"/tmp/cats-and-dogs.zip\"\n",
    "\n",
    "\n",
    "data_folder = os.path.abspath(\".\")\n",
    "local_zip = data_folder + '/cats-and-dogs.zip'\n",
    "zip_ref = zipfile.ZipFile(local_zip, 'r')\n",
    "zip_ref.extractall(data_folder)\n",
    "zip_ref.close()\n"
   ]
  },
  {
   "cell_type": "code",
   "execution_count": 2,
   "metadata": {
    "colab": {
     "base_uri": "https://localhost:8080/",
     "height": 54
    },
    "colab_type": "code",
    "id": "gi3yD62a6X3S",
    "outputId": "d4e0349e-18ea-415b-a800-f0e9ac3bd342"
   },
   "outputs": [
    {
     "name": "stdout",
     "output_type": "stream",
     "text": [
      "12501\n",
      "12501\n"
     ]
    }
   ],
   "source": [
    "print(len(os.listdir(os.path.abspath(\"PetImages/Cat/\"))))\n",
    "print(len(os.listdir(os.path.abspath(\"PetImages/Dog/\"))))\n",
    "\n",
    "# Expected Output:\n",
    "# 12501\n",
    "# 12501"
   ]
  },
  {
   "cell_type": "code",
   "execution_count": null,
   "metadata": {
    "colab": {},
    "colab_type": "code",
    "id": "F-QkLjxpmyK2"
   },
   "outputs": [],
   "source": [
    "# Use os.mkdir to create your directories\n",
    "# You will need a directory for cats-v-dogs, and subdirectories for training\n",
    "# and testing. These in turn will need subdirectories for 'cats' and 'dogs'\n",
    "try:\n",
    "    os.mkdir(os.path.abspath(\"cats-v-dogs\"))\n",
    "    os.mkdir(os.path.abspath(\"cats-v-dogs/training\"))\n",
    "    os.mkdir(os.path.abspath(\"cats-v-dogs/training/cats\"))\n",
    "    os.mkdir(os.path.abspath(\"cats-v-dogs/training/dogs\"))\n",
    "    os.mkdir(os.path.abspath(\"cats-v-dogs/testing\"))\n",
    "    os.mkdir(os.path.abspath(\"cats-v-dogs/testing/cats\"))\n",
    "    os.mkdir(os.path.abspath(\"cats-v-dogs/testing/dogs\"))\n",
    "except OSError:\n",
    "    pass"
   ]
  },
  {
   "cell_type": "code",
   "execution_count": null,
   "metadata": {
    "colab": {
     "base_uri": "https://localhost:8080/",
     "height": 54
    },
    "colab_type": "code",
    "id": "zvSODo0f9LaU",
    "outputId": "6d0c37eb-7278-4bee-e211-2239e6b2aaef"
   },
   "outputs": [],
   "source": [
    "# Write a python function called split_data which takes\n",
    "# a SOURCE directory containing the files\n",
    "# a TRAINING directory that a portion of the files will be copied to\n",
    "# a TESTING directory that a portion of the files will be copie to\n",
    "# a SPLIT SIZE to determine the portion\n",
    "# The files should also be randomized, so that the training set is a random\n",
    "# X% of the files, and the test set is the remaining files\n",
    "# SO, for example, if SOURCE is PetImages/Cat, and SPLIT SIZE is .9\n",
    "# Then 90% of the images in PetImages/Cat will be copied to the TRAINING dir\n",
    "# and 10% of the images will be copied to the TESTING dir\n",
    "# Also -- All images should be checked, and if they have a zero file length,\n",
    "# they will not be copied over\n",
    "#\n",
    "# os.listdir(DIRECTORY) gives you a listing of the contents of that directory\n",
    "# os.path.getsize(PATH) gives you the size of the file\n",
    "# copyfile(source, destination) copies a file from source to destination\n",
    "# random.sample(list, len(list)) shuffles a list\n",
    "def split_data(SOURCE, TRAINING, TESTING, SPLIT_SIZE):\n",
    "  files = []\n",
    "  \n",
    "  for file in os.listdir(SOURCE):\n",
    "    if(os.path.getsize(os.path.join(SOURCE, file)) > 0):\n",
    "      files.append(file)\n",
    "    else:\n",
    "      print(file + ' is zero length, so ignoring')\n",
    "      \n",
    "    \n",
    "  training_length  = int(len(files) * SPLIT_SIZE)\n",
    "  testing_length   = int(len(files) - training_length)\n",
    "  shuffled_list    = random.sample(files, len(files))\n",
    "  training_list    = shuffled_list[:training_length]\n",
    "  testing_list     = shuffled_list[training_length:]\n",
    "  \n",
    "  for i,source_file in enumerate(training_list):\n",
    "    source_file_path = os.path.join(SOURCE, source_file)\n",
    "    copyfile(source_file_path, os.path.join(TRAINING, source_file))\n",
    "      \n",
    "  for i,source_file in enumerate(testing_list):\n",
    "    source_file_path = os.path.join(SOURCE, source_file)\n",
    "    copyfile(source_file_path, os.path.join(TESTING, source_file))\n",
    "\n",
    "      \n",
    "CAT_SOURCE_DIR = os.path.abspath(\"PetImages/Cat/\")\n",
    "TRAINING_CATS_DIR = os.path.abspath(\"cats-v-dogs/training/cats\")\n",
    "TESTING_CATS_DIR = os.path.abspath(\"cats-v-dogs/testing/cats\")\n",
    "DOG_SOURCE_DIR = os.path.abspath(\"PetImages/Dog/\")\n",
    "TRAINING_DOGS_DIR = os.path.abspath(\"cats-v-dogs/training/dogs\")\n",
    "TESTING_DOGS_DIR = os.path.abspath(\"cats-v-dogs/testing/dogs\")\n",
    "\n",
    "split_size = .9\n",
    "split_data(CAT_SOURCE_DIR, TRAINING_CATS_DIR, TESTING_CATS_DIR, split_size)\n",
    "split_data(DOG_SOURCE_DIR, TRAINING_DOGS_DIR, TESTING_DOGS_DIR, split_size)\n",
    "\n",
    "# Expected output\n",
    "# 666.jpg is zero length, so ignoring\n",
    "# 11702.jpg is zero length, so ignoring"
   ]
  },
  {
   "cell_type": "code",
   "execution_count": 3,
   "metadata": {
    "colab": {
     "base_uri": "https://localhost:8080/",
     "height": 91
    },
    "colab_type": "code",
    "id": "luthalB76ufC",
    "outputId": "1e71fa2e-4ea3-46a2-9084-b6e420267fc9"
   },
   "outputs": [
    {
     "name": "stdout",
     "output_type": "stream",
     "text": [
      "11250\n",
      "11250\n",
      "1250\n",
      "1250\n"
     ]
    }
   ],
   "source": [
    "print(len(os.listdir(os.path.abspath(\"cats-v-dogs/training/cats/\"))))\n",
    "print(len(os.listdir(os.path.abspath(\"cats-v-dogs/training/dogs/\"))))\n",
    "print(len(os.listdir(os.path.abspath(\"cats-v-dogs/testing/cats/\"))))\n",
    "print(len(os.listdir(os.path.abspath(\"cats-v-dogs/testing/dogs/\"))))\n",
    "\n",
    "# Expected output:\n",
    "# 11250\n",
    "# 11250\n",
    "# 1250\n",
    "# 1250"
   ]
  },
  {
   "cell_type": "code",
   "execution_count": 6,
   "metadata": {
    "colab": {
     "base_uri": "https://localhost:8080/",
     "height": 167
    },
    "colab_type": "code",
    "id": "-BQrav4anTmj",
    "outputId": "5a11d2ba-313c-4e16-dc8c-9f48d7e9755e"
   },
   "outputs": [],
   "source": [
    "# DEFINE A KERAS MODEL TO CLASSIFY CATS V DOGS\n",
    "# USE AT LEAST 3 CONVOLUTION LAYERS\n",
    "model = tf.keras.models.Sequential([\n",
    "    tf.keras.layers.Conv2D(32, (3,3), activation='relu', input_shape=(150,150,3)),\n",
    "    tf.keras.layers.MaxPooling2D(2,2),\n",
    "    tf.keras.layers.Dropout(0.2),\n",
    "    tf.keras.layers.Conv2D(64, (5,5), activation='relu'),\n",
    "    tf.keras.layers.MaxPooling2D(2,2),\n",
    "    tf.keras.layers.Dropout(0.2),\n",
    "    tf.keras.layers.Conv2D(64, (5,5), activation='relu'),\n",
    "    tf.keras.layers.MaxPooling2D(2,2),\n",
    "    tf.keras.layers.Dropout(0.2),\n",
    "    tf.keras.layers.Conv2D(64, (7,7), activation='relu'),\n",
    "    tf.keras.layers.MaxPooling2D(2,2),\n",
    "    tf.keras.layers.Flatten(),\n",
    "    tf.keras.layers.Dense(1024, activation='relu'),\n",
    "    tf.keras.layers.Dropout(0.2),\n",
    "    tf.keras.layers.Dense(512, activation='relu'),\n",
    "    tf.keras.layers.Dense(1, activation='sigmoid')\n",
    "])\n",
    "\n",
    "model.compile(optimizer='adam', loss='binary_crossentropy', metrics=['acc'])"
   ]
  },
  {
   "cell_type": "code",
   "execution_count": 7,
   "metadata": {
    "colab": {
     "base_uri": "https://localhost:8080/",
     "height": 54
    },
    "colab_type": "code",
    "id": "mlNjoJ5D61N6",
    "outputId": "694cd575-b4e5-4e5b-fa5b-635916144e46"
   },
   "outputs": [
    {
     "name": "stdout",
     "output_type": "stream",
     "text": [
      "Found 22498 images belonging to 2 classes.\n",
      "Found 2500 images belonging to 2 classes.\n"
     ]
    }
   ],
   "source": [
    "TRAINING_DIR = os.path.abspath(\"cats-v-dogs/training/\")\n",
    "train_datagen = ImageDataGenerator(\n",
    "    rescale=1./255,\n",
    "    rotation_range=40,\n",
    "    zoom_range=0.2,\n",
    "    shear_range=0.2,\n",
    "    width_shift_range=0.2,\n",
    "    height_shift_range=0.2,\n",
    "    horizontal_flip=True,\n",
    "    fill_mode='nearest'\n",
    ")\n",
    "train_generator = train_datagen.flow_from_directory(\n",
    "    TRAINING_DIR,\n",
    "    batch_size=100,\n",
    "    target_size=(150,150),\n",
    "    class_mode='binary'\n",
    ")\n",
    "\n",
    "VALIDATION_DIR = os.path.abspath(\"cats-v-dogs/testing/\")\n",
    "validation_datagen = ImageDataGenerator(\n",
    "    rescale=1./255,\n",
    "    rotation_range=40,\n",
    "    zoom_range=0.2,\n",
    "    shear_range=0.2,\n",
    "    width_shift_range=0.2,\n",
    "    height_shift_range=0.2,\n",
    "    horizontal_flip=True,\n",
    "    fill_mode='nearest'\n",
    ")\n",
    "validation_generator = train_datagen.flow_from_directory(\n",
    "    VALIDATION_DIR,\n",
    "    batch_size=100,\n",
    "    target_size=(150,150),\n",
    "    class_mode='binary'\n",
    ")\n",
    "\n",
    "\n",
    "\n",
    "# Expected Output:\n",
    "# Found 22498 images belonging to 2 classes.\n",
    "# Found 2500 images belonging to 2 classes."
   ]
  },
  {
   "cell_type": "code",
   "execution_count": 8,
   "metadata": {
    "colab": {
     "base_uri": "https://localhost:8080/",
     "height": 1000
    },
    "colab_type": "code",
    "id": "KyS4n53w7DxC",
    "outputId": "7735daf2-4ddf-4986-c1df-4ea5c0a9e7c1"
   },
   "outputs": [
    {
     "name": "stdout",
     "output_type": "stream",
     "text": [
      "Epoch 1/100\n",
      " 19/225 [=>............................] - ETA: 16:08 - loss: 0.7011 - acc: 0.5095"
     ]
    },
    {
     "name": "stderr",
     "output_type": "stream",
     "text": [
      "c:\\users\\carlina.cs\\appdata\\local\\continuum\\anaconda3\\lib\\site-packages\\PIL\\TiffImagePlugin.py:725: UserWarning: Possibly corrupt EXIF data.  Expecting to read 209715200 bytes but only got 0. Skipping tag 48\n",
      "  \" Skipping tag %s\" % (size, len(data), tag))\n",
      "c:\\users\\carlina.cs\\appdata\\local\\continuum\\anaconda3\\lib\\site-packages\\PIL\\TiffImagePlugin.py:725: UserWarning: Possibly corrupt EXIF data.  Expecting to read 52428800 bytes but only got 0. Skipping tag 0\n",
      "  \" Skipping tag %s\" % (size, len(data), tag))\n",
      "c:\\users\\carlina.cs\\appdata\\local\\continuum\\anaconda3\\lib\\site-packages\\PIL\\TiffImagePlugin.py:725: UserWarning: Possibly corrupt EXIF data.  Expecting to read 6468665344 bytes but only got 0. Skipping tag 0\n",
      "  \" Skipping tag %s\" % (size, len(data), tag))\n",
      "c:\\users\\carlina.cs\\appdata\\local\\continuum\\anaconda3\\lib\\site-packages\\PIL\\TiffImagePlugin.py:725: UserWarning: Possibly corrupt EXIF data.  Expecting to read 1050744 bytes but only got 7027. Skipping tag 48\n",
      "  \" Skipping tag %s\" % (size, len(data), tag))\n",
      "c:\\users\\carlina.cs\\appdata\\local\\continuum\\anaconda3\\lib\\site-packages\\PIL\\TiffImagePlugin.py:725: UserWarning: Possibly corrupt EXIF data.  Expecting to read 422313984 bytes but only got 0. Skipping tag 5\n",
      "  \" Skipping tag %s\" % (size, len(data), tag))\n",
      "c:\\users\\carlina.cs\\appdata\\local\\continuum\\anaconda3\\lib\\site-packages\\PIL\\TiffImagePlugin.py:725: UserWarning: Possibly corrupt EXIF data.  Expecting to read 422838272 bytes but only got 0. Skipping tag 5\n",
      "  \" Skipping tag %s\" % (size, len(data), tag))\n",
      "c:\\users\\carlina.cs\\appdata\\local\\continuum\\anaconda3\\lib\\site-packages\\PIL\\TiffImagePlugin.py:725: UserWarning: Possibly corrupt EXIF data.  Expecting to read 3368026112 bytes but only got 0. Skipping tag 7\n",
      "  \" Skipping tag %s\" % (size, len(data), tag))\n",
      "c:\\users\\carlina.cs\\appdata\\local\\continuum\\anaconda3\\lib\\site-packages\\PIL\\TiffImagePlugin.py:725: UserWarning: Possibly corrupt EXIF data.  Expecting to read 134479872 bytes but only got 0. Skipping tag 7\n",
      "  \" Skipping tag %s\" % (size, len(data), tag))\n",
      "c:\\users\\carlina.cs\\appdata\\local\\continuum\\anaconda3\\lib\\site-packages\\PIL\\TiffImagePlugin.py:725: UserWarning: Possibly corrupt EXIF data.  Expecting to read 428867584 bytes but only got 0. Skipping tag 10\n",
      "  \" Skipping tag %s\" % (size, len(data), tag))\n",
      "c:\\users\\carlina.cs\\appdata\\local\\continuum\\anaconda3\\lib\\site-packages\\PIL\\TiffImagePlugin.py:725: UserWarning: Possibly corrupt EXIF data.  Expecting to read 429391872 bytes but only got 0. Skipping tag 5\n",
      "  \" Skipping tag %s\" % (size, len(data), tag))\n",
      "c:\\users\\carlina.cs\\appdata\\local\\continuum\\anaconda3\\lib\\site-packages\\PIL\\TiffImagePlugin.py:725: UserWarning: Possibly corrupt EXIF data.  Expecting to read 2031616 bytes but only got 0. Skipping tag 3\n",
      "  \" Skipping tag %s\" % (size, len(data), tag))\n",
      "c:\\users\\carlina.cs\\appdata\\local\\continuum\\anaconda3\\lib\\site-packages\\PIL\\TiffImagePlugin.py:725: UserWarning: Possibly corrupt EXIF data.  Expecting to read 429916160 bytes but only got 0. Skipping tag 5\n",
      "  \" Skipping tag %s\" % (size, len(data), tag))\n",
      "c:\\users\\carlina.cs\\appdata\\local\\continuum\\anaconda3\\lib\\site-packages\\PIL\\TiffImagePlugin.py:725: UserWarning: Possibly corrupt EXIF data.  Expecting to read 3300917248 bytes but only got 0. Skipping tag 7\n",
      "  \" Skipping tag %s\" % (size, len(data), tag))\n",
      "c:\\users\\carlina.cs\\appdata\\local\\continuum\\anaconda3\\lib\\site-packages\\PIL\\TiffImagePlugin.py:725: UserWarning: Possibly corrupt EXIF data.  Expecting to read 65536 bytes but only got 0. Skipping tag 3\n",
      "  \" Skipping tag %s\" % (size, len(data), tag))\n",
      "c:\\users\\carlina.cs\\appdata\\local\\continuum\\anaconda3\\lib\\site-packages\\PIL\\TiffImagePlugin.py:725: UserWarning: Possibly corrupt EXIF data.  Expecting to read 21299200 bytes but only got 0. Skipping tag 4\n",
      "  \" Skipping tag %s\" % (size, len(data), tag))\n",
      "c:\\users\\carlina.cs\\appdata\\local\\continuum\\anaconda3\\lib\\site-packages\\PIL\\TiffImagePlugin.py:725: UserWarning: Possibly corrupt EXIF data.  Expecting to read 24313856 bytes but only got 0. Skipping tag 4\n",
      "  \" Skipping tag %s\" % (size, len(data), tag))\n",
      "c:\\users\\carlina.cs\\appdata\\local\\continuum\\anaconda3\\lib\\site-packages\\PIL\\TiffImagePlugin.py:725: UserWarning: Possibly corrupt EXIF data.  Expecting to read 453771264 bytes but only got 7032. Skipping tag 4\n",
      "  \" Skipping tag %s\" % (size, len(data), tag))\n",
      "c:\\users\\carlina.cs\\appdata\\local\\continuum\\anaconda3\\lib\\site-packages\\PIL\\TiffImagePlugin.py:725: UserWarning: Possibly corrupt EXIF data.  Expecting to read 131073 bytes but only got 7028. Skipping tag 0\n",
      "  \" Skipping tag %s\" % (size, len(data), tag))\n",
      "c:\\users\\carlina.cs\\appdata\\local\\continuum\\anaconda3\\lib\\site-packages\\PIL\\TiffImagePlugin.py:725: UserWarning: Possibly corrupt EXIF data.  Expecting to read 393216 bytes but only got 0. Skipping tag 3\n",
      "  \" Skipping tag %s\" % (size, len(data), tag))\n",
      "c:\\users\\carlina.cs\\appdata\\local\\continuum\\anaconda3\\lib\\site-packages\\PIL\\TiffImagePlugin.py:725: UserWarning: Possibly corrupt EXIF data.  Expecting to read 416415744 bytes but only got 0. Skipping tag 5\n",
      "  \" Skipping tag %s\" % (size, len(data), tag))\n",
      "c:\\users\\carlina.cs\\appdata\\local\\continuum\\anaconda3\\lib\\site-packages\\PIL\\TiffImagePlugin.py:725: UserWarning: Possibly corrupt EXIF data.  Expecting to read 416940032 bytes but only got 0. Skipping tag 5\n",
      "  \" Skipping tag %s\" % (size, len(data), tag))\n",
      "c:\\users\\carlina.cs\\appdata\\local\\continuum\\anaconda3\\lib\\site-packages\\PIL\\TiffImagePlugin.py:725: UserWarning: Possibly corrupt EXIF data.  Expecting to read 131072 bytes but only got 0. Skipping tag 3\n",
      "  \" Skipping tag %s\" % (size, len(data), tag))\n",
      "c:\\users\\carlina.cs\\appdata\\local\\continuum\\anaconda3\\lib\\site-packages\\PIL\\TiffImagePlugin.py:725: UserWarning: Possibly corrupt EXIF data.  Expecting to read 524288 bytes but only got 0. Skipping tag 4\n",
      "  \" Skipping tag %s\" % (size, len(data), tag))\n",
      "c:\\users\\carlina.cs\\appdata\\local\\continuum\\anaconda3\\lib\\site-packages\\PIL\\TiffImagePlugin.py:725: UserWarning: Possibly corrupt EXIF data.  Expecting to read 415825920 bytes but only got 7032. Skipping tag 4\n",
      "  \" Skipping tag %s\" % (size, len(data), tag))\n",
      "c:\\users\\carlina.cs\\appdata\\local\\continuum\\anaconda3\\lib\\site-packages\\PIL\\TiffImagePlugin.py:742: UserWarning: Corrupt EXIF data.  Expecting to read 12 bytes but only got 2. \n",
      "  warnings.warn(str(msg))\n"
     ]
    },
    {
     "name": "stdout",
     "output_type": "stream",
     "text": [
      " 25/225 [==>...........................] - ETA: 15:39 - loss: 0.6993 - acc: 0.4976"
     ]
    },
    {
     "name": "stderr",
     "output_type": "stream",
     "text": [
      "c:\\users\\carlina.cs\\appdata\\local\\continuum\\anaconda3\\lib\\site-packages\\PIL\\TiffImagePlugin.py:725: UserWarning: Possibly corrupt EXIF data.  Expecting to read 32 bytes but only got 0. Skipping tag 270\n",
      "  \" Skipping tag %s\" % (size, len(data), tag))\n",
      "c:\\users\\carlina.cs\\appdata\\local\\continuum\\anaconda3\\lib\\site-packages\\PIL\\TiffImagePlugin.py:725: UserWarning: Possibly corrupt EXIF data.  Expecting to read 5 bytes but only got 0. Skipping tag 271\n",
      "  \" Skipping tag %s\" % (size, len(data), tag))\n",
      "c:\\users\\carlina.cs\\appdata\\local\\continuum\\anaconda3\\lib\\site-packages\\PIL\\TiffImagePlugin.py:725: UserWarning: Possibly corrupt EXIF data.  Expecting to read 8 bytes but only got 0. Skipping tag 272\n",
      "  \" Skipping tag %s\" % (size, len(data), tag))\n",
      "c:\\users\\carlina.cs\\appdata\\local\\continuum\\anaconda3\\lib\\site-packages\\PIL\\TiffImagePlugin.py:725: UserWarning: Possibly corrupt EXIF data.  Expecting to read 8 bytes but only got 0. Skipping tag 282\n",
      "  \" Skipping tag %s\" % (size, len(data), tag))\n",
      "c:\\users\\carlina.cs\\appdata\\local\\continuum\\anaconda3\\lib\\site-packages\\PIL\\TiffImagePlugin.py:725: UserWarning: Possibly corrupt EXIF data.  Expecting to read 8 bytes but only got 0. Skipping tag 283\n",
      "  \" Skipping tag %s\" % (size, len(data), tag))\n",
      "c:\\users\\carlina.cs\\appdata\\local\\continuum\\anaconda3\\lib\\site-packages\\PIL\\TiffImagePlugin.py:725: UserWarning: Possibly corrupt EXIF data.  Expecting to read 20 bytes but only got 0. Skipping tag 306\n",
      "  \" Skipping tag %s\" % (size, len(data), tag))\n",
      "c:\\users\\carlina.cs\\appdata\\local\\continuum\\anaconda3\\lib\\site-packages\\PIL\\TiffImagePlugin.py:725: UserWarning: Possibly corrupt EXIF data.  Expecting to read 48 bytes but only got 0. Skipping tag 532\n",
      "  \" Skipping tag %s\" % (size, len(data), tag))\n",
      "c:\\users\\carlina.cs\\appdata\\local\\continuum\\anaconda3\\lib\\site-packages\\PIL\\TiffImagePlugin.py:742: UserWarning: Corrupt EXIF data.  Expecting to read 2 bytes but only got 0. \n",
      "  warnings.warn(str(msg))\n"
     ]
    },
    {
     "name": "stdout",
     "output_type": "stream",
     "text": [
      " 82/225 [=========>....................] - ETA: 11:08 - loss: 0.6950 - acc: 0.5012"
     ]
    },
    {
     "name": "stderr",
     "output_type": "stream",
     "text": [
      "c:\\users\\carlina.cs\\appdata\\local\\continuum\\anaconda3\\lib\\site-packages\\PIL\\TiffImagePlugin.py:725: UserWarning: Possibly corrupt EXIF data.  Expecting to read 80000 bytes but only got 0. Skipping tag 64640\n",
      "  \" Skipping tag %s\" % (size, len(data), tag))\n",
      "c:\\users\\carlina.cs\\appdata\\local\\continuum\\anaconda3\\lib\\site-packages\\PIL\\TiffImagePlugin.py:725: UserWarning: Possibly corrupt EXIF data.  Expecting to read 404094976 bytes but only got 0. Skipping tag 5\n",
      "  \" Skipping tag %s\" % (size, len(data), tag))\n",
      "c:\\users\\carlina.cs\\appdata\\local\\continuum\\anaconda3\\lib\\site-packages\\PIL\\TiffImagePlugin.py:725: UserWarning: Possibly corrupt EXIF data.  Expecting to read 404619264 bytes but only got 0. Skipping tag 5\n",
      "  \" Skipping tag %s\" % (size, len(data), tag))\n",
      "c:\\users\\carlina.cs\\appdata\\local\\continuum\\anaconda3\\lib\\site-packages\\PIL\\TiffImagePlugin.py:725: UserWarning: Possibly corrupt EXIF data.  Expecting to read 425459712 bytes but only got 0. Skipping tag 4\n",
      "  \" Skipping tag %s\" % (size, len(data), tag))\n",
      "c:\\users\\carlina.cs\\appdata\\local\\continuum\\anaconda3\\lib\\site-packages\\PIL\\TiffImagePlugin.py:725: UserWarning: Possibly corrupt EXIF data.  Expecting to read 1385474 bytes but only got 6833. Skipping tag 513\n",
      "  \" Skipping tag %s\" % (size, len(data), tag))\n",
      "c:\\users\\carlina.cs\\appdata\\local\\continuum\\anaconda3\\lib\\site-packages\\PIL\\TiffImagePlugin.py:725: UserWarning: Possibly corrupt EXIF data.  Expecting to read 3846701056 bytes but only got 0. Skipping tag 2\n",
      "  \" Skipping tag %s\" % (size, len(data), tag))\n",
      "c:\\users\\carlina.cs\\appdata\\local\\continuum\\anaconda3\\lib\\site-packages\\PIL\\TiffImagePlugin.py:725: UserWarning: Possibly corrupt EXIF data.  Expecting to read 196867 bytes but only got 6833. Skipping tag 0\n",
      "  \" Skipping tag %s\" % (size, len(data), tag))\n",
      "c:\\users\\carlina.cs\\appdata\\local\\continuum\\anaconda3\\lib\\site-packages\\PIL\\TiffImagePlugin.py:742: UserWarning: Corrupt EXIF data.  Expecting to read 12 bytes but only got 8. \n",
      "  warnings.warn(str(msg))\n"
     ]
    },
    {
     "name": "stdout",
     "output_type": "stream",
     "text": [
      " 91/225 [===========>..................] - ETA: 10:26 - loss: 0.6946 - acc: 0.5040"
     ]
    },
    {
     "name": "stderr",
     "output_type": "stream",
     "text": [
      "c:\\users\\carlina.cs\\appdata\\local\\continuum\\anaconda3\\lib\\site-packages\\PIL\\TiffImagePlugin.py:725: UserWarning: Possibly corrupt EXIF data.  Expecting to read 262146 bytes but only got 0. Skipping tag 2\n",
      "  \" Skipping tag %s\" % (size, len(data), tag))\n",
      "c:\\users\\carlina.cs\\appdata\\local\\continuum\\anaconda3\\lib\\site-packages\\PIL\\TiffImagePlugin.py:725: UserWarning: Possibly corrupt EXIF data.  Expecting to read 262151 bytes but only got 0. Skipping tag 56\n",
      "  \" Skipping tag %s\" % (size, len(data), tag))\n",
      "c:\\users\\carlina.cs\\appdata\\local\\continuum\\anaconda3\\lib\\site-packages\\PIL\\TiffImagePlugin.py:742: UserWarning: Corrupt EXIF data.  Expecting to read 12 bytes but only got 0. \n",
      "  warnings.warn(str(msg))\n"
     ]
    },
    {
     "name": "stdout",
     "output_type": "stream",
     "text": [
      "103/225 [============>.................] - ETA: 9:30 - loss: 0.6933 - acc: 0.5115"
     ]
    },
    {
     "name": "stderr",
     "output_type": "stream",
     "text": [
      "c:\\users\\carlina.cs\\appdata\\local\\continuum\\anaconda3\\lib\\site-packages\\PIL\\TiffImagePlugin.py:725: UserWarning: Possibly corrupt EXIF data.  Expecting to read 6553600 bytes but only got 0. Skipping tag 49\n",
      "  \" Skipping tag %s\" % (size, len(data), tag))\n",
      "c:\\users\\carlina.cs\\appdata\\local\\continuum\\anaconda3\\lib\\site-packages\\PIL\\TiffImagePlugin.py:725: UserWarning: Possibly corrupt EXIF data.  Expecting to read 1050744 bytes but only got 4951. Skipping tag 51\n",
      "  \" Skipping tag %s\" % (size, len(data), tag))\n",
      "c:\\users\\carlina.cs\\appdata\\local\\continuum\\anaconda3\\lib\\site-packages\\PIL\\TiffImagePlugin.py:725: UserWarning: Possibly corrupt EXIF data.  Expecting to read 293339136 bytes but only got 0. Skipping tag 5\n",
      "  \" Skipping tag %s\" % (size, len(data), tag))\n",
      "c:\\users\\carlina.cs\\appdata\\local\\continuum\\anaconda3\\lib\\site-packages\\PIL\\TiffImagePlugin.py:725: UserWarning: Possibly corrupt EXIF data.  Expecting to read 293863424 bytes but only got 0. Skipping tag 5\n",
      "  \" Skipping tag %s\" % (size, len(data), tag))\n",
      "c:\\users\\carlina.cs\\appdata\\local\\continuum\\anaconda3\\lib\\site-packages\\PIL\\TiffImagePlugin.py:725: UserWarning: Possibly corrupt EXIF data.  Expecting to read 295698432 bytes but only got 0. Skipping tag 10\n",
      "  \" Skipping tag %s\" % (size, len(data), tag))\n",
      "c:\\users\\carlina.cs\\appdata\\local\\continuum\\anaconda3\\lib\\site-packages\\PIL\\TiffImagePlugin.py:725: UserWarning: Possibly corrupt EXIF data.  Expecting to read 296222720 bytes but only got 0. Skipping tag 5\n",
      "  \" Skipping tag %s\" % (size, len(data), tag))\n",
      "c:\\users\\carlina.cs\\appdata\\local\\continuum\\anaconda3\\lib\\site-packages\\PIL\\TiffImagePlugin.py:725: UserWarning: Possibly corrupt EXIF data.  Expecting to read 14745600 bytes but only got 0. Skipping tag 4\n",
      "  \" Skipping tag %s\" % (size, len(data), tag))\n",
      "c:\\users\\carlina.cs\\appdata\\local\\continuum\\anaconda3\\lib\\site-packages\\PIL\\TiffImagePlugin.py:725: UserWarning: Possibly corrupt EXIF data.  Expecting to read 25624576 bytes but only got 0. Skipping tag 4\n",
      "  \" Skipping tag %s\" % (size, len(data), tag))\n",
      "c:\\users\\carlina.cs\\appdata\\local\\continuum\\anaconda3\\lib\\site-packages\\PIL\\TiffImagePlugin.py:725: UserWarning: Possibly corrupt EXIF data.  Expecting to read 317718528 bytes but only got 4956. Skipping tag 4\n",
      "  \" Skipping tag %s\" % (size, len(data), tag))\n",
      "c:\\users\\carlina.cs\\appdata\\local\\continuum\\anaconda3\\lib\\site-packages\\PIL\\TiffImagePlugin.py:725: UserWarning: Possibly corrupt EXIF data.  Expecting to read 131073 bytes but only got 4952. Skipping tag 0\n",
      "  \" Skipping tag %s\" % (size, len(data), tag))\n",
      "c:\\users\\carlina.cs\\appdata\\local\\continuum\\anaconda3\\lib\\site-packages\\PIL\\TiffImagePlugin.py:725: UserWarning: Possibly corrupt EXIF data.  Expecting to read 287178752 bytes but only got 0. Skipping tag 5\n",
      "  \" Skipping tag %s\" % (size, len(data), tag))\n",
      "c:\\users\\carlina.cs\\appdata\\local\\continuum\\anaconda3\\lib\\site-packages\\PIL\\TiffImagePlugin.py:725: UserWarning: Possibly corrupt EXIF data.  Expecting to read 287703040 bytes but only got 0. Skipping tag 5\n",
      "  \" Skipping tag %s\" % (size, len(data), tag))\n",
      "c:\\users\\carlina.cs\\appdata\\local\\continuum\\anaconda3\\lib\\site-packages\\PIL\\TiffImagePlugin.py:725: UserWarning: Possibly corrupt EXIF data.  Expecting to read 286654464 bytes but only got 4956. Skipping tag 4\n",
      "  \" Skipping tag %s\" % (size, len(data), tag))\n"
     ]
    },
    {
     "name": "stdout",
     "output_type": "stream",
     "text": [
      "146/225 [==================>...........] - ETA: 6:09 - loss: 0.6893 - acc: 0.5260"
     ]
    },
    {
     "name": "stderr",
     "output_type": "stream",
     "text": [
      "c:\\users\\carlina.cs\\appdata\\local\\continuum\\anaconda3\\lib\\site-packages\\PIL\\TiffImagePlugin.py:725: UserWarning: Possibly corrupt EXIF data.  Expecting to read 18350080 bytes but only got 0. Skipping tag 0\n",
      "  \" Skipping tag %s\" % (size, len(data), tag))\n",
      "c:\\users\\carlina.cs\\appdata\\local\\continuum\\anaconda3\\lib\\site-packages\\PIL\\TiffImagePlugin.py:742: UserWarning: Corrupt EXIF data.  Expecting to read 12 bytes but only got 6. \n",
      "  warnings.warn(str(msg))\n"
     ]
    },
    {
     "name": "stdout",
     "output_type": "stream",
     "text": [
      "201/225 [=========================>....] - ETA: 1:51 - loss: 0.6851 - acc: 0.5400"
     ]
    },
    {
     "name": "stderr",
     "output_type": "stream",
     "text": [
      "c:\\users\\carlina.cs\\appdata\\local\\continuum\\anaconda3\\lib\\site-packages\\PIL\\TiffImagePlugin.py:725: UserWarning: Possibly corrupt EXIF data.  Expecting to read 307363840 bytes but only got 0. Skipping tag 5\n",
      "  \" Skipping tag %s\" % (size, len(data), tag))\n",
      "c:\\users\\carlina.cs\\appdata\\local\\continuum\\anaconda3\\lib\\site-packages\\PIL\\TiffImagePlugin.py:725: UserWarning: Possibly corrupt EXIF data.  Expecting to read 307888128 bytes but only got 0. Skipping tag 5\n",
      "  \" Skipping tag %s\" % (size, len(data), tag))\n",
      "c:\\users\\carlina.cs\\appdata\\local\\continuum\\anaconda3\\lib\\site-packages\\PIL\\TiffImagePlugin.py:725: UserWarning: Possibly corrupt EXIF data.  Expecting to read 328728576 bytes but only got 0. Skipping tag 4\n",
      "  \" Skipping tag %s\" % (size, len(data), tag))\n",
      "c:\\users\\carlina.cs\\appdata\\local\\continuum\\anaconda3\\lib\\site-packages\\PIL\\TiffImagePlugin.py:725: UserWarning: Possibly corrupt EXIF data.  Expecting to read 1385474 bytes but only got 5357. Skipping tag 513\n",
      "  \" Skipping tag %s\" % (size, len(data), tag))\n",
      "c:\\users\\carlina.cs\\appdata\\local\\continuum\\anaconda3\\lib\\site-packages\\PIL\\TiffImagePlugin.py:725: UserWarning: Possibly corrupt EXIF data.  Expecting to read 196867 bytes but only got 5357. Skipping tag 0\n",
      "  \" Skipping tag %s\" % (size, len(data), tag))\n"
     ]
    },
    {
     "name": "stdout",
     "output_type": "stream",
     "text": [
      "225/225 [==============================] - 1079s 5s/step - loss: 0.6808 - acc: 0.5491 - val_loss: 0.6386 - val_acc: 0.6408\n",
      "Epoch 2/100\n",
      "225/225 [==============================] - 1155s 5s/step - loss: 0.6348 - acc: 0.6372 - val_loss: 0.6221 - val_acc: 0.6484\n",
      "Epoch 3/100\n",
      "225/225 [==============================] - 1174s 5s/step - loss: 0.5972 - acc: 0.6822 - val_loss: 0.5811 - val_acc: 0.7040\n",
      "Epoch 4/100\n",
      "225/225 [==============================] - 1095s 5s/step - loss: 0.5680 - acc: 0.7071 - val_loss: 0.5535 - val_acc: 0.7204\n",
      "Epoch 5/100\n",
      "225/225 [==============================] - 1078s 5s/step - loss: 0.5427 - acc: 0.7283 - val_loss: 0.5136 - val_acc: 0.7432\n",
      "Epoch 6/100\n",
      "225/225 [==============================] - 1045s 5s/step - loss: 0.5238 - acc: 0.7418 - val_loss: 0.5073 - val_acc: 0.7544\n",
      "Epoch 7/100\n",
      "225/225 [==============================] - 1036s 5s/step - loss: 0.5073 - acc: 0.7543 - val_loss: 0.4823 - val_acc: 0.7760\n",
      "Epoch 8/100\n",
      "225/225 [==============================] - 1065s 5s/step - loss: 0.4732 - acc: 0.7748 - val_loss: 0.4527 - val_acc: 0.7892\n",
      "Epoch 9/100\n",
      "225/225 [==============================] - 1075s 5s/step - loss: 0.4463 - acc: 0.7954 - val_loss: 0.4422 - val_acc: 0.7960\n",
      "Epoch 10/100\n",
      "225/225 [==============================] - 1076s 5s/step - loss: 0.4238 - acc: 0.8070 - val_loss: 0.4166 - val_acc: 0.8084\n",
      "Epoch 11/100\n",
      "225/225 [==============================] - 1084s 5s/step - loss: 0.4067 - acc: 0.8149 - val_loss: 0.3703 - val_acc: 0.8284\n",
      "Epoch 12/100\n",
      "225/225 [==============================] - 1101s 5s/step - loss: 0.3838 - acc: 0.8305 - val_loss: 0.3609 - val_acc: 0.8320\n",
      "Epoch 13/100\n",
      "225/225 [==============================] - 1035s 5s/step - loss: 0.3767 - acc: 0.8292 - val_loss: 0.3517 - val_acc: 0.8400\n",
      "Epoch 14/100\n",
      "225/225 [==============================] - 1025s 5s/step - loss: 0.3619 - acc: 0.8376 - val_loss: 0.3655 - val_acc: 0.8316\n",
      "Epoch 15/100\n",
      "225/225 [==============================] - 1002s 4s/step - loss: 0.3504 - acc: 0.8458 - val_loss: 0.4401 - val_acc: 0.7968\n",
      "Epoch 16/100\n",
      "225/225 [==============================] - 993s 4s/step - loss: 0.3504 - acc: 0.8423 - val_loss: 0.3302 - val_acc: 0.8496\n",
      "Epoch 17/100\n",
      "225/225 [==============================] - 986s 4s/step - loss: 0.3414 - acc: 0.8497 - val_loss: 0.3207 - val_acc: 0.8580\n",
      "Epoch 18/100\n",
      "225/225 [==============================] - 988s 4s/step - loss: 0.3288 - acc: 0.8534 - val_loss: 0.3613 - val_acc: 0.8380\n",
      "Epoch 19/100\n",
      "225/225 [==============================] - 981s 4s/step - loss: 0.3255 - acc: 0.8574 - val_loss: 0.2915 - val_acc: 0.8732\n",
      "Epoch 20/100\n",
      "225/225 [==============================] - 993s 4s/step - loss: 0.3172 - acc: 0.8598 - val_loss: 0.3050 - val_acc: 0.8612\n",
      "Epoch 21/100\n",
      "225/225 [==============================] - 991s 4s/step - loss: 0.3085 - acc: 0.8645 - val_loss: 0.3011 - val_acc: 0.8672\n",
      "Epoch 22/100\n",
      "225/225 [==============================] - 989s 4s/step - loss: 0.3026 - acc: 0.8707 - val_loss: 0.2787 - val_acc: 0.8740\n",
      "Epoch 23/100\n",
      "225/225 [==============================] - 978s 4s/step - loss: 0.3048 - acc: 0.8655 - val_loss: 0.2933 - val_acc: 0.8704\n",
      "Epoch 24/100\n",
      "225/225 [==============================] - 985s 4s/step - loss: 0.2984 - acc: 0.8701 - val_loss: 0.2897 - val_acc: 0.8748\n",
      "Epoch 25/100\n",
      "225/225 [==============================] - 988s 4s/step - loss: 0.2874 - acc: 0.8739 - val_loss: 0.2807 - val_acc: 0.8776\n",
      "Epoch 26/100\n",
      "225/225 [==============================] - 984s 4s/step - loss: 0.2898 - acc: 0.8731 - val_loss: 0.3034 - val_acc: 0.8644\n",
      "Epoch 27/100\n",
      "225/225 [==============================] - 989s 4s/step - loss: 0.2962 - acc: 0.8697 - val_loss: 0.2824 - val_acc: 0.8760\n",
      "Epoch 28/100\n",
      "225/225 [==============================] - 977s 4s/step - loss: 0.2814 - acc: 0.8759 - val_loss: 0.2726 - val_acc: 0.8876\n",
      "Epoch 29/100\n",
      "225/225 [==============================] - 990s 4s/step - loss: 0.2904 - acc: 0.8743 - val_loss: 0.2985 - val_acc: 0.8716\n",
      "Epoch 30/100\n",
      "225/225 [==============================] - 988s 4s/step - loss: 0.2789 - acc: 0.8794 - val_loss: 0.2686 - val_acc: 0.8840\n",
      "Epoch 31/100\n",
      "225/225 [==============================] - 983s 4s/step - loss: 0.2744 - acc: 0.8818 - val_loss: 0.2494 - val_acc: 0.8968\n",
      "Epoch 32/100\n",
      "225/225 [==============================] - 983s 4s/step - loss: 0.2690 - acc: 0.8823 - val_loss: 0.2688 - val_acc: 0.8804\n",
      "Epoch 33/100\n",
      "225/225 [==============================] - 992s 4s/step - loss: 0.2643 - acc: 0.8846 - val_loss: 0.2628 - val_acc: 0.8848\n",
      "Epoch 34/100\n",
      "225/225 [==============================] - 985s 4s/step - loss: 0.2683 - acc: 0.8841 - val_loss: 0.2293 - val_acc: 0.9068\n",
      "Epoch 35/100\n",
      "225/225 [==============================] - 987s 4s/step - loss: 0.2627 - acc: 0.8855 - val_loss: 0.2366 - val_acc: 0.8968\n",
      "Epoch 36/100\n",
      "225/225 [==============================] - 981s 4s/step - loss: 0.2593 - acc: 0.8863 - val_loss: 0.2565 - val_acc: 0.8932\n",
      "Epoch 37/100\n",
      "225/225 [==============================] - 1006s 4s/step - loss: 0.2502 - acc: 0.8926 - val_loss: 0.2420 - val_acc: 0.8996\n",
      "Epoch 38/100\n",
      "225/225 [==============================] - 1026s 5s/step - loss: 0.2530 - acc: 0.8907 - val_loss: 0.2848 - val_acc: 0.8728\n",
      "Epoch 39/100\n",
      "225/225 [==============================] - 1050s 5s/step - loss: 0.2539 - acc: 0.8886 - val_loss: 0.2143 - val_acc: 0.9116\n",
      "Epoch 40/100\n",
      "225/225 [==============================] - 1029s 5s/step - loss: 0.2485 - acc: 0.8940 - val_loss: 0.2397 - val_acc: 0.9004\n",
      "Epoch 41/100\n",
      "225/225 [==============================] - 1051s 5s/step - loss: 0.2486 - acc: 0.8940 - val_loss: 0.2453 - val_acc: 0.8936\n",
      "Epoch 42/100\n",
      "225/225 [==============================] - 1033s 5s/step - loss: 0.2511 - acc: 0.8935 - val_loss: 0.2271 - val_acc: 0.9088\n",
      "Epoch 43/100\n",
      "225/225 [==============================] - 1021s 5s/step - loss: 0.2432 - acc: 0.8936 - val_loss: 0.2292 - val_acc: 0.9104\n",
      "Epoch 44/100\n",
      "225/225 [==============================] - 1045s 5s/step - loss: 0.2401 - acc: 0.8970 - val_loss: 0.2372 - val_acc: 0.9036\n",
      "Epoch 45/100\n",
      "225/225 [==============================] - 1030s 5s/step - loss: 0.2405 - acc: 0.8971 - val_loss: 0.2248 - val_acc: 0.9020\n",
      "Epoch 46/100\n",
      "225/225 [==============================] - 1023s 5s/step - loss: 0.2356 - acc: 0.8998 - val_loss: 0.2387 - val_acc: 0.8960\n",
      "Epoch 47/100\n",
      "225/225 [==============================] - 1020s 5s/step - loss: 0.2372 - acc: 0.8979 - val_loss: 0.2146 - val_acc: 0.9076\n",
      "Epoch 48/100\n",
      "225/225 [==============================] - 991s 4s/step - loss: 0.2404 - acc: 0.8943 - val_loss: 0.2279 - val_acc: 0.8924\n",
      "Epoch 49/100\n",
      "225/225 [==============================] - 983s 4s/step - loss: 0.2330 - acc: 0.9005 - val_loss: 0.2353 - val_acc: 0.9004\n",
      "Epoch 50/100\n",
      "225/225 [==============================] - 985s 4s/step - loss: 0.2306 - acc: 0.8993 - val_loss: 0.2295 - val_acc: 0.9084\n",
      "Epoch 51/100\n",
      "225/225 [==============================] - 990s 4s/step - loss: 0.2322 - acc: 0.8995 - val_loss: 0.2136 - val_acc: 0.9152\n",
      "Epoch 52/100\n",
      "225/225 [==============================] - 981s 4s/step - loss: 0.2272 - acc: 0.9039 - val_loss: 0.2833 - val_acc: 0.8740\n",
      "Epoch 53/100\n",
      "225/225 [==============================] - 987s 4s/step - loss: 0.2314 - acc: 0.9008 - val_loss: 0.2163 - val_acc: 0.9060\n",
      "Epoch 54/100\n",
      "225/225 [==============================] - 987s 4s/step - loss: 0.2244 - acc: 0.9032 - val_loss: 0.2240 - val_acc: 0.9060\n",
      "Epoch 55/100\n",
      "225/225 [==============================] - 981s 4s/step - loss: 0.2297 - acc: 0.8999 - val_loss: 0.2111 - val_acc: 0.9052\n",
      "Epoch 56/100\n",
      "225/225 [==============================] - 979s 4s/step - loss: 0.2280 - acc: 0.9030 - val_loss: 0.2049 - val_acc: 0.9124\n",
      "Epoch 57/100\n",
      "225/225 [==============================] - 990s 4s/step - loss: 0.2298 - acc: 0.9023 - val_loss: 0.2211 - val_acc: 0.9120\n",
      "Epoch 58/100\n",
      "225/225 [==============================] - 986s 4s/step - loss: 0.2219 - acc: 0.9045 - val_loss: 0.2101 - val_acc: 0.9048\n",
      "Epoch 59/100\n",
      "225/225 [==============================] - 981s 4s/step - loss: 0.2226 - acc: 0.9059 - val_loss: 0.2713 - val_acc: 0.8784\n",
      "Epoch 60/100\n",
      "225/225 [==============================] - 981s 4s/step - loss: 0.2235 - acc: 0.9069 - val_loss: 0.2196 - val_acc: 0.9072\n",
      "Epoch 61/100\n"
     ]
    },
    {
     "name": "stdout",
     "output_type": "stream",
     "text": [
      "225/225 [==============================] - 989s 4s/step - loss: 0.2201 - acc: 0.9050 - val_loss: 0.2096 - val_acc: 0.9176\n",
      "Epoch 62/100\n",
      "225/225 [==============================] - 989s 4s/step - loss: 0.2237 - acc: 0.9043 - val_loss: 0.1966 - val_acc: 0.9180\n",
      "Epoch 63/100\n",
      "225/225 [==============================] - 987s 4s/step - loss: 0.2148 - acc: 0.9093 - val_loss: 0.2084 - val_acc: 0.9132\n",
      "Epoch 64/100\n",
      "225/225 [==============================] - 974s 4s/step - loss: 0.2146 - acc: 0.9083 - val_loss: 0.2285 - val_acc: 0.8948\n",
      "Epoch 65/100\n",
      "225/225 [==============================] - 989s 4s/step - loss: 0.2122 - acc: 0.9107 - val_loss: 0.1970 - val_acc: 0.9252\n",
      "Epoch 66/100\n",
      "225/225 [==============================] - 1018s 5s/step - loss: 0.2145 - acc: 0.9075 - val_loss: 0.1996 - val_acc: 0.9192\n",
      "Epoch 67/100\n",
      "225/225 [==============================] - 988s 4s/step - loss: 0.2138 - acc: 0.9103 - val_loss: 0.2019 - val_acc: 0.9164\n",
      "Epoch 68/100\n",
      "225/225 [==============================] - 989s 4s/step - loss: 0.2097 - acc: 0.9114 - val_loss: 0.2105 - val_acc: 0.9084\n",
      "Epoch 69/100\n",
      "225/225 [==============================] - 988s 4s/step - loss: 0.2084 - acc: 0.9105 - val_loss: 0.1795 - val_acc: 0.9264\n",
      "Epoch 70/100\n",
      "225/225 [==============================] - 985s 4s/step - loss: 0.2100 - acc: 0.9101 - val_loss: 0.1872 - val_acc: 0.9244\n",
      "Epoch 71/100\n",
      "225/225 [==============================] - 984s 4s/step - loss: 0.2112 - acc: 0.9108 - val_loss: 0.2285 - val_acc: 0.8980\n",
      "Epoch 72/100\n",
      "225/225 [==============================] - 988s 4s/step - loss: 0.2049 - acc: 0.9129 - val_loss: 0.2161 - val_acc: 0.9052\n",
      "Epoch 73/100\n",
      "225/225 [==============================] - 1057s 5s/step - loss: 0.2020 - acc: 0.9163 - val_loss: 0.2011 - val_acc: 0.9096\n",
      "Epoch 74/100\n",
      "225/225 [==============================] - 1101s 5s/step - loss: 0.2019 - acc: 0.9158 - val_loss: 0.1996 - val_acc: 0.9172\n",
      "Epoch 75/100\n",
      "225/225 [==============================] - 1052s 5s/step - loss: 0.2074 - acc: 0.9130 - val_loss: 0.2146 - val_acc: 0.9108\n",
      "Epoch 76/100\n",
      "225/225 [==============================] - 1030s 5s/step - loss: 0.2037 - acc: 0.9121 - val_loss: 0.2090 - val_acc: 0.9140\n",
      "Epoch 77/100\n",
      "225/225 [==============================] - 1029s 5s/step - loss: 0.1973 - acc: 0.9183 - val_loss: 0.1877 - val_acc: 0.9240\n",
      "Epoch 78/100\n",
      "225/225 [==============================] - 1180s 5s/step - loss: 0.1964 - acc: 0.9173 - val_loss: 0.2006 - val_acc: 0.9124\n",
      "Epoch 79/100\n",
      "225/225 [==============================] - 1074s 5s/step - loss: 0.2039 - acc: 0.9161 - val_loss: 0.1885 - val_acc: 0.9256\n",
      "Epoch 80/100\n",
      "225/225 [==============================] - 1109s 5s/step - loss: 0.1973 - acc: 0.9162 - val_loss: 0.2001 - val_acc: 0.9092\n",
      "Epoch 81/100\n",
      "225/225 [==============================] - 1100s 5s/step - loss: 0.2003 - acc: 0.9157 - val_loss: 0.1829 - val_acc: 0.9184\n",
      "Epoch 82/100\n",
      "225/225 [==============================] - 1050s 5s/step - loss: 0.2015 - acc: 0.9148 - val_loss: 0.1974 - val_acc: 0.9152\n",
      "Epoch 83/100\n",
      "225/225 [==============================] - 1241s 6s/step - loss: 0.1945 - acc: 0.9172 - val_loss: 0.1949 - val_acc: 0.9180\n",
      "Epoch 84/100\n",
      "225/225 [==============================] - 1003s 4s/step - loss: 0.1991 - acc: 0.9163 - val_loss: 0.2032 - val_acc: 0.9148\n",
      "Epoch 85/100\n",
      "225/225 [==============================] - 1017s 5s/step - loss: 0.1970 - acc: 0.9158 - val_loss: 0.1837 - val_acc: 0.9280\n",
      "Epoch 86/100\n",
      "225/225 [==============================] - 1030s 5s/step - loss: 0.1958 - acc: 0.9188 - val_loss: 0.2122 - val_acc: 0.9060\n",
      "Epoch 87/100\n",
      "225/225 [==============================] - 1097s 5s/step - loss: 0.1899 - acc: 0.9212 - val_loss: 0.1734 - val_acc: 0.9276\n",
      "Epoch 88/100\n",
      "225/225 [==============================] - 1064s 5s/step - loss: 0.1943 - acc: 0.9189 - val_loss: 0.1837 - val_acc: 0.9268\n",
      "Epoch 89/100\n",
      "225/225 [==============================] - 1048s 5s/step - loss: 0.1960 - acc: 0.9192 - val_loss: 0.2125 - val_acc: 0.9084\n",
      "Epoch 90/100\n",
      "225/225 [==============================] - 1118s 5s/step - loss: 0.1859 - acc: 0.9228 - val_loss: 0.1908 - val_acc: 0.9224\n",
      "Epoch 91/100\n",
      "225/225 [==============================] - 1115s 5s/step - loss: 0.1905 - acc: 0.9203 - val_loss: 0.1812 - val_acc: 0.9204\n",
      "Epoch 92/100\n",
      "225/225 [==============================] - 1136s 5s/step - loss: 0.1928 - acc: 0.9194 - val_loss: 0.2020 - val_acc: 0.9152\n",
      "Epoch 93/100\n",
      "225/225 [==============================] - 1072s 5s/step - loss: 0.1946 - acc: 0.9173 - val_loss: 0.1786 - val_acc: 0.9316\n",
      "Epoch 94/100\n",
      "225/225 [==============================] - 1131s 5s/step - loss: 0.1873 - acc: 0.9208 - val_loss: 0.1860 - val_acc: 0.9152\n",
      "Epoch 95/100\n",
      "225/225 [==============================] - 1102s 5s/step - loss: 0.1878 - acc: 0.9219 - val_loss: 0.1885 - val_acc: 0.9232\n",
      "Epoch 96/100\n",
      "225/225 [==============================] - 1119s 5s/step - loss: 0.1873 - acc: 0.9218 - val_loss: 0.1962 - val_acc: 0.9164\n",
      "Epoch 97/100\n",
      "225/225 [==============================] - 1020s 5s/step - loss: 0.1869 - acc: 0.9214 - val_loss: 0.1833 - val_acc: 0.9192\n",
      "Epoch 98/100\n",
      "225/225 [==============================] - 1076s 5s/step - loss: 0.1892 - acc: 0.9192 - val_loss: 0.1749 - val_acc: 0.9276\n",
      "Epoch 99/100\n",
      "225/225 [==============================] - 1045s 5s/step - loss: 0.1856 - acc: 0.9225 - val_loss: 0.1818 - val_acc: 0.9260\n",
      "Epoch 100/100\n",
      "225/225 [==============================] - 1012s 4s/step - loss: 0.1881 - acc: 0.9201 - val_loss: 0.1945 - val_acc: 0.9232\n"
     ]
    }
   ],
   "source": [
    "history = model.fit_generator(train_generator,\n",
    "                              epochs=100,\n",
    "                              verbose=1,\n",
    "                              validation_data=validation_generator)\n",
    "\n",
    "# The expectation here is that the model will train, and that accuracy will be > 95% on both training and validation\n",
    "# i.e. acc:A1 and val_acc:A2 will be visible, and both A1 and A2 will be > .9"
   ]
  },
  {
   "cell_type": "code",
   "execution_count": 9,
   "metadata": {
    "colab": {},
    "colab_type": "code",
    "id": "MWZrJN4-65RC"
   },
   "outputs": [
    {
     "data": {
      "text/plain": [
       "Text(0.5, 1.0, 'Training and validation loss')"
      ]
     },
     "execution_count": 9,
     "metadata": {},
     "output_type": "execute_result"
    },
    {
     "data": {
      "image/png": "[encoded data removed]",
      "text/plain": [
       "<Figure size 432x288 with 1 Axes>"
      ]
     },
     "metadata": {
      "needs_background": "light"
     },
     "output_type": "display_data"
    },
    {
     "data": {
      "image/png": "[encoded data removed]",
      "text/plain": [
       "<Figure size 432x288 with 1 Axes>"
      ]
     },
     "metadata": {
      "needs_background": "light"
     },
     "output_type": "display_data"
    }
   ],
   "source": [
    "# PLOT LOSS AND ACCURACY\n",
    "%matplotlib inline\n",
    "\n",
    "import matplotlib.image  as mpimg\n",
    "import matplotlib.pyplot as plt\n",
    "\n",
    "#-----------------------------------------------------------\n",
    "# Retrieve a list of list results on training and test data\n",
    "# sets for each training epoch\n",
    "#-----------------------------------------------------------\n",
    "acc=history.history['acc']\n",
    "val_acc=history.history['val_acc']\n",
    "loss=history.history['loss']\n",
    "val_loss=history.history['val_loss']\n",
    "\n",
    "epochs=range(len(acc)) # Get number of epochs\n",
    "\n",
    "#------------------------------------------------\n",
    "# Plot training and validation accuracy per epoch\n",
    "#------------------------------------------------\n",
    "plt.plot(epochs, acc, 'r', \"Training Accuracy\")\n",
    "plt.plot(epochs, val_acc, 'b', \"Validation Accuracy\")\n",
    "plt.title('Training and validation accuracy')\n",
    "plt.figure()\n",
    "\n",
    "#------------------------------------------------\n",
    "# Plot training and validation loss per epoch\n",
    "#------------------------------------------------\n",
    "plt.plot(epochs, loss, 'r', \"Training Loss\")\n",
    "plt.plot(epochs, val_loss, 'b', \"Validation Loss\")\n",
    "\n",
    "\n",
    "plt.title('Training and validation loss')\n",
    "\n",
    "# Desired output. Charts with training and validation metrics. No crash :)"
   ]
  },
  {
   "cell_type": "code",
   "execution_count": 10,
   "metadata": {
    "colab": {},
    "colab_type": "code",
    "id": "LqL6FYUrtXpf"
   },
   "outputs": [
    {
     "ename": "SyntaxError",
     "evalue": "invalid syntax (<ipython-input-10-c099e8bfd509>, line 15)",
     "output_type": "error",
     "traceback": [
      "\u001b[1;36m  File \u001b[1;32m\"<ipython-input-10-c099e8bfd509>\"\u001b[1;36m, line \u001b[1;32m15\u001b[0m\n\u001b[1;33m    x = image.img_to_array(img)\u001b[0m\n\u001b[1;37m      ^\u001b[0m\n\u001b[1;31mSyntaxError\u001b[0m\u001b[1;31m:\u001b[0m invalid syntax\n"
     ]
    }
   ],
   "source": [
    "# Here's a codeblock just for fun. You should be able to upload an image here \n",
    "# and have it classified without crashing\n",
    "\n",
    "import numpy as np\n",
    "from google.colab import files\n",
    "from keras.preprocessing import image\n",
    "\n",
    "uploaded = files.upload()\n",
    "\n",
    "for fn in uploaded.keys():\n",
    " \n",
    "  # predicting images\n",
    "  path = '/content/' + fn\n",
    "  img = image.load_img(path, target_size=(# YOUR CODE HERE))\n",
    "  x = image.img_to_array(img)\n",
    "  x = np.expand_dims(x, axis=0)\n",
    "\n",
    "  images = np.vstack([x])\n",
    "  classes = model.predict(images, batch_size=10)\n",
    "  print(classes[0])\n",
    "  if classes[0]>0.5:\n",
    "    print(fn + \" is a dog\")\n",
    "  else:\n",
    "    print(fn + \" is a cat\")"
   ]
  }
 ],
 "metadata": {
  "accelerator": "GPU",
  "colab": {
   "collapsed_sections": [],
   "name": "Exercise 6 - Question.ipynb",
   "provenance": [],
   "version": "0.3.2"
  },
  "kernelspec": {
   "display_name": "Python 3",
   "language": "python",
   "name": "python3"
  },
  "language_info": {
   "codemirror_mode": {
    "name": "ipython",
    "version": 3
   },
   "file_extension": ".py",
   "mimetype": "text/x-python",
   "name": "python",
   "nbconvert_exporter": "python",
   "pygments_lexer": "ipython3",
   "version": "3.6.4"
  }
 },
 "nbformat": 4,
 "nbformat_minor": 1
}
